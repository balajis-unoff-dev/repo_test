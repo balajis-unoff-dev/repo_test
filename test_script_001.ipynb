{
 "cells": [
  {
   "cell_type": "code",
   "execution_count": 18,
   "metadata": {},
   "outputs": [
    {
     "name": "stdout",
     "output_type": "stream",
     "text": [
      "Script start time in est: \n",
      "\n",
      " 2023-Oct-26 11:01:41 PM\n",
      "\n",
      "\n"
     ]
    }
   ],
   "source": [
    "#!/usr/bin/python3.9\n",
    "\n",
    "# Author: Balajis\n",
    "# Date: 2023-10-26\n",
    "# Ticket: \n",
    "# Purpose: First test script to test the connection to the AWS S3 bucket\n",
    "# Input: test s3 bucket\n",
    "# Output: N.A.\n",
    "# Frequency: N.A.\n",
    "\n",
    "# Importing the libraries\n",
    "import json\n",
    "import pandas as pd\n",
    "import boto3\n",
    "import os\n",
    "import sys\n",
    "import time\n",
    "import datetime\n",
    "import pytz\n",
    "import logging\n",
    "import requests\n",
    "import urllib3\n",
    "import openpyxl\n",
    "\n",
    "# Time script start\n",
    "var_datetime_est_now = datetime.datetime.now(pytz.timezone('US/Eastern')).strftime(\"%Y-%b-%d %I:%M:%S %p\")\n",
    "print(f'Script start time in est: \\n\\n {var_datetime_est_now}\\n\\n')"
   ]
  }
 ],
 "metadata": {
  "kernelspec": {
   "display_name": "Python 3",
   "language": "python",
   "name": "python3"
  },
  "language_info": {
   "codemirror_mode": {
    "name": "ipython",
    "version": 3
   },
   "file_extension": ".py",
   "mimetype": "text/x-python",
   "name": "python",
   "nbconvert_exporter": "python",
   "pygments_lexer": "ipython3",
   "version": "3.9.6"
  }
 },
 "nbformat": 4,
 "nbformat_minor": 2
}
